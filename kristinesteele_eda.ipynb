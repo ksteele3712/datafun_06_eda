{
 "cells": [
  {
   "cell_type": "markdown",
   "id": "a669956c",
   "metadata": {},
   "source": [
    "# 🔎 Exploratory Data Analysis (EDA) Project\n",
    "**Author:** Kristine Steele\n",
    "**Date:** September 29, 2025\n",
    "**Purpose:**\n",
    "This notebook demonstrates exploratory data analysis using Python libraries such as pandas, matplotlib, and seaborn. The goal is to analyze, visualize, and gain insights from structured data."
   ]
  },
  {
   "cell_type": "code",
   "execution_count": 1,
   "id": "001323ea",
   "metadata": {},
   "outputs": [],
   "source": [
    "# Import required libraries\n",
    "import matplotlib.pyplot as plt\n",
    "import pandas as pd\n",
    "import seaborn as sns"
   ]
  },
  {
   "cell_type": "markdown",
   "id": "7820ba1e",
   "metadata": {},
   "source": [
    "## 🥗 Inspect Nutrition Data\n",
    "Display the first 10 rows, shape, and data types of the nutrition dataset."
   ]
  },
  {
   "cell_type": "code",
   "execution_count": 10,
   "id": "dc29494c",
   "metadata": {},
   "outputs": [
    {
     "name": "stdout",
     "output_type": "stream",
     "text": [
      "           Name  Calories (per 100g)  Carbohydrates (g)  Protein (g)  Fat (g)  \\\n",
      "0      Amaranth                   23                4.0          2.1      0.3   \n",
      "1         Apple                   52               14.0          0.3      0.2   \n",
      "2       Apricot                   48               11.0          1.4      0.4   \n",
      "3     Asparagus                   20                3.7          2.2      0.2   \n",
      "4       Avocado                  160                8.5          2.0     14.7   \n",
      "5        Banana                   89               23.0          1.3      0.3   \n",
      "6         Beans                   31                7.0          1.8      0.2   \n",
      "7      Beetroot                   43                9.6          1.6      0.2   \n",
      "8   Bell Pepper                   20                4.6          0.9      0.2   \n",
      "9  Bitter Gourd                   19                4.3          0.8      0.2   \n",
      "\n",
      "   Fiber (g)  Vitamin C (mg)  Zinc (mg)  Potassium (mg)  Iron (mg)  \\\n",
      "0        2.0            70.0       0.90             611       2.70   \n",
      "1        2.4             0.5       0.04             107       0.12   \n",
      "2        2.0             3.9       0.20             259       0.40   \n",
      "3        2.1             5.6       0.50             202       2.10   \n",
      "4        6.7             8.8       1.30             485       0.60   \n",
      "5        2.6             8.7       0.20             358       0.26   \n",
      "6        2.7            16.3       0.20             209       0.60   \n",
      "7        2.8             1.6       0.40             325       0.80   \n",
      "8        1.7           128.0       0.20             340       0.30   \n",
      "9        2.6            19.8       0.80             296       0.40   \n",
      "\n",
      "   Calcium (mg)  \n",
      "0           215  \n",
      "1             3  \n",
      "2            13  \n",
      "3            24  \n",
      "4            12  \n",
      "5             5  \n",
      "6            37  \n",
      "7            16  \n",
      "8             7  \n",
      "9            40  \n",
      "(77, 11)\n",
      "Name                    object\n",
      "Calories (per 100g)      int64\n",
      "Carbohydrates (g)      float64\n",
      "Protein (g)            float64\n",
      "Fat (g)                float64\n",
      "Fiber (g)              float64\n",
      "Vitamin C (mg)         float64\n",
      "Zinc (mg)              float64\n",
      "Potassium (mg)           int64\n",
      "Iron (mg)              float64\n",
      "Calcium (mg)             int64\n",
      "dtype: object\n"
     ]
    }
   ],
   "source": [
    "## Load your CSV file into a DataFrame\n",
    "df = pd.read_csv('data/nutrition_values.csv')\n",
    "\n",
    "# Inspect the first rows of the DataFrame\n",
    "df_nutrition = pd.read_csv('data/nutrition_values.csv')\n",
    "print(df_nutrition.head(10))\n",
    "print(df_nutrition.shape)\n",
    "print(df_nutrition.dtypes)\n"
   ]
  },
  {
   "cell_type": "markdown",
   "id": "f9582659",
   "metadata": {},
   "source": [
    "## Nutrition Data Summary Statistics\n",
    "Show summary statistics for each column in the nutrition dataset."
   ]
  },
  {
   "cell_type": "code",
   "execution_count": 14,
   "id": "3a458113",
   "metadata": {},
   "outputs": [
    {
     "name": "stdout",
     "output_type": "stream",
     "text": [
      "       Calories (per 100g)  Carbohydrates (g)  Protein (g)    Fat (g)  \\\n",
      "count            77.000000          77.000000    77.000000  77.000000   \n",
      "mean             68.844156          13.505974     1.686364   1.718961   \n",
      "std              79.861404          11.661530     2.183808   6.478875   \n",
      "min              13.000000           2.870000     0.200000   0.100000   \n",
      "25%              26.000000           6.040000     0.800000   0.200000   \n",
      "50%              48.000000          11.000000     1.100000   0.300000   \n",
      "75%              77.000000          16.500000     1.900000   0.500000   \n",
      "max             553.000000          74.970000    18.220000  43.850000   \n",
      "\n",
      "       Fiber (g)  Vitamin C (mg)  Zinc (mg)  Potassium (mg)  Iron (mg)  \\\n",
      "count  77.000000       77.000000  77.000000       77.000000  77.000000   \n",
      "mean    2.836364       32.116883   0.397403      278.454545   0.888182   \n",
      "std     1.966958       48.551572   0.670766      158.338457   1.363415   \n",
      "min     0.400000        0.500000   0.020000       13.000000   0.070000   \n",
      "25%     1.600000        4.800000   0.150000      168.000000   0.300000   \n",
      "50%     2.400000       13.700000   0.270000      244.000000   0.500000   \n",
      "75%     3.300000       36.400000   0.440000      340.000000   0.800000   \n",
      "max    10.400000      242.500000   5.780000      816.000000   9.000000   \n",
      "\n",
      "       Calcium (mg)  \n",
      "count     77.000000  \n",
      "mean      28.025974  \n",
      "std       33.775955  \n",
      "min        2.000000  \n",
      "25%       11.000000  \n",
      "50%       21.000000  \n",
      "75%       34.000000  \n",
      "max      215.000000  \n"
     ]
    }
   ],
   "source": [
    "print(df_nutrition.describe())"
   ]
  },
  {
   "cell_type": "markdown",
   "id": "8c70c801",
   "metadata": {},
   "source": [
    "## 🍎🥦 Total Amount of Fruits and Vegetables"
   ]
  },
  {
   "cell_type": "code",
   "execution_count": 17,
   "id": "1cfc95ad",
   "metadata": {},
   "outputs": [
    {
     "name": "stdout",
     "output_type": "stream",
     "text": [
      "77\n"
     ]
    }
   ],
   "source": [
    "import pandas as pd\n",
    "df_nutrition = pd.read_csv('data/nutrition_values.csv')\n",
    "print(df_nutrition['Name'].nunique())"
   ]
  }
 ],
 "metadata": {
  "kernelspec": {
   "display_name": ".venv",
   "language": "python",
   "name": "python3"
  },
  "language_info": {
   "codemirror_mode": {
    "name": "ipython",
    "version": 3
   },
   "file_extension": ".py",
   "mimetype": "text/x-python",
   "name": "python",
   "nbconvert_exporter": "python",
   "pygments_lexer": "ipython3",
   "version": "3.13.7"
  }
 },
 "nbformat": 4,
 "nbformat_minor": 5
}
