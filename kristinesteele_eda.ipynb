{
 "cells": [
  {
   "cell_type": "markdown",
   "id": "a669956c",
   "metadata": {},
   "source": [
    "# 🔎 Exploratory Data Analysis (EDA) Project\n",
    "**Author:** Kristine Steele\n",
    "**Date:** September 29, 2025\n",
    "**Purpose:**\n",
    "This notebook demonstrates exploratory data analysis using Python libraries such as pandas, matplotlib, and seaborn. The goal is to analyze, visualize, and gain insights from structured data."
   ]
  },
  {
   "cell_type": "code",
   "execution_count": 1,
   "id": "001323ea",
   "metadata": {},
   "outputs": [],
   "source": [
    "# Import required libraries\n",
    "import matplotlib.pyplot as plt\n",
    "import pandas as pd\n",
    "import seaborn as sns"
   ]
  },
  {
   "cell_type": "markdown",
   "id": "7820ba1e",
   "metadata": {},
   "source": [
    "## 🥗 Inspect Nutrition Data\n",
    "Display the first 10 rows, shape, and data types of the nutrition dataset."
   ]
  },
  {
   "cell_type": "code",
   "execution_count": 10,
   "id": "dc29494c",
   "metadata": {},
   "outputs": [
    {
     "name": "stdout",
     "output_type": "stream",
     "text": [
      "           Name  Calories (per 100g)  Carbohydrates (g)  Protein (g)  Fat (g)  \\\n",
      "0      Amaranth                   23                4.0          2.1      0.3   \n",
      "1         Apple                   52               14.0          0.3      0.2   \n",
      "2       Apricot                   48               11.0          1.4      0.4   \n",
      "3     Asparagus                   20                3.7          2.2      0.2   \n",
      "4       Avocado                  160                8.5          2.0     14.7   \n",
      "5        Banana                   89               23.0          1.3      0.3   \n",
      "6         Beans                   31                7.0          1.8      0.2   \n",
      "7      Beetroot                   43                9.6          1.6      0.2   \n",
      "8   Bell Pepper                   20                4.6          0.9      0.2   \n",
      "9  Bitter Gourd                   19                4.3          0.8      0.2   \n",
      "\n",
      "   Fiber (g)  Vitamin C (mg)  Zinc (mg)  Potassium (mg)  Iron (mg)  \\\n",
      "0        2.0            70.0       0.90             611       2.70   \n",
      "1        2.4             0.5       0.04             107       0.12   \n",
      "2        2.0             3.9       0.20             259       0.40   \n",
      "3        2.1             5.6       0.50             202       2.10   \n",
      "4        6.7             8.8       1.30             485       0.60   \n",
      "5        2.6             8.7       0.20             358       0.26   \n",
      "6        2.7            16.3       0.20             209       0.60   \n",
      "7        2.8             1.6       0.40             325       0.80   \n",
      "8        1.7           128.0       0.20             340       0.30   \n",
      "9        2.6            19.8       0.80             296       0.40   \n",
      "\n",
      "   Calcium (mg)  \n",
      "0           215  \n",
      "1             3  \n",
      "2            13  \n",
      "3            24  \n",
      "4            12  \n",
      "5             5  \n",
      "6            37  \n",
      "7            16  \n",
      "8             7  \n",
      "9            40  \n",
      "(77, 11)\n",
      "Name                    object\n",
      "Calories (per 100g)      int64\n",
      "Carbohydrates (g)      float64\n",
      "Protein (g)            float64\n",
      "Fat (g)                float64\n",
      "Fiber (g)              float64\n",
      "Vitamin C (mg)         float64\n",
      "Zinc (mg)              float64\n",
      "Potassium (mg)           int64\n",
      "Iron (mg)              float64\n",
      "Calcium (mg)             int64\n",
      "dtype: object\n"
     ]
    }
   ],
   "source": [
    "## Load your CSV file into a DataFrame\n",
    "df = pd.read_csv('data/nutrition_values.csv')\n",
    "\n",
    "# Inspect the first rows of the DataFrame\n",
    "df_nutrition = pd.read_csv('data/nutrition_values.csv')\n",
    "print(df_nutrition.head(10))\n",
    "print(df_nutrition.shape)\n",
    "print(df_nutrition.dtypes)\n"
   ]
  },
  {
   "cell_type": "markdown",
   "id": "f9582659",
   "metadata": {},
   "source": [
    "## Nutrition Data Summary Statistics\n",
    "Show summary statistics for each column in the nutrition dataset."
   ]
  },
  {
   "cell_type": "code",
   "execution_count": 14,
   "id": "3a458113",
   "metadata": {},
   "outputs": [
    {
     "name": "stdout",
     "output_type": "stream",
     "text": [
      "       Calories (per 100g)  Carbohydrates (g)  Protein (g)    Fat (g)  \\\n",
      "count            77.000000          77.000000    77.000000  77.000000   \n",
      "mean             68.844156          13.505974     1.686364   1.718961   \n",
      "std              79.861404          11.661530     2.183808   6.478875   \n",
      "min              13.000000           2.870000     0.200000   0.100000   \n",
      "25%              26.000000           6.040000     0.800000   0.200000   \n",
      "50%              48.000000          11.000000     1.100000   0.300000   \n",
      "75%              77.000000          16.500000     1.900000   0.500000   \n",
      "max             553.000000          74.970000    18.220000  43.850000   \n",
      "\n",
      "       Fiber (g)  Vitamin C (mg)  Zinc (mg)  Potassium (mg)  Iron (mg)  \\\n",
      "count  77.000000       77.000000  77.000000       77.000000  77.000000   \n",
      "mean    2.836364       32.116883   0.397403      278.454545   0.888182   \n",
      "std     1.966958       48.551572   0.670766      158.338457   1.363415   \n",
      "min     0.400000        0.500000   0.020000       13.000000   0.070000   \n",
      "25%     1.600000        4.800000   0.150000      168.000000   0.300000   \n",
      "50%     2.400000       13.700000   0.270000      244.000000   0.500000   \n",
      "75%     3.300000       36.400000   0.440000      340.000000   0.800000   \n",
      "max    10.400000      242.500000   5.780000      816.000000   9.000000   \n",
      "\n",
      "       Calcium (mg)  \n",
      "count     77.000000  \n",
      "mean      28.025974  \n",
      "std       33.775955  \n",
      "min        2.000000  \n",
      "25%       11.000000  \n",
      "50%       21.000000  \n",
      "75%       34.000000  \n",
      "max      215.000000  \n"
     ]
    }
   ],
   "source": [
    "print(df_nutrition.describe())"
   ]
  },
  {
   "cell_type": "markdown",
   "id": "89ab0c86",
   "metadata": {},
   "source": [
    "## 🍎 Inspect Fruit Prices 2022\n",
    "Display the first 10 rows, shape, and data types of the fruit prices dataset."
   ]
  },
  {
   "cell_type": "code",
   "execution_count": 13,
   "id": "9d72e7bf",
   "metadata": {},
   "outputs": [
    {
     "name": "stdout",
     "output_type": "stream",
     "text": [
      "                                Fruit    Form  RetailPrice RetailPriceUnit  \\\n",
      "0                              Apples   Fresh       1.8541       per pound   \n",
      "1                  Apples, applesauce  Canned       1.1705       per pound   \n",
      "2              Apples, ready-to-drink   Juice       0.8699        per pint   \n",
      "3          Apples, frozen concentrate   Juice       0.6086        per pint   \n",
      "4                            Apricots   Fresh       3.6162       per pound   \n",
      "5           Apricots, packed in juice  Canned       1.8645       per pound   \n",
      "6  Apricots, packed in syrup or water  Canned       2.2362       per pound   \n",
      "7                            Apricots   Dried       7.6611       per pound   \n",
      "8                             Bananas   Fresh       0.5971       per pound   \n",
      "9                      Berries, mixed  Frozen       4.2673       per pound   \n",
      "\n",
      "   Yield  CupEquivalentSize CupEquivalentUnit  CupEquivalentPrice  \n",
      "0   0.90             0.2425            pounds              0.4996  \n",
      "1   1.00             0.5401            pounds              0.6323  \n",
      "2   1.00             8.0000      fluid ounces              0.4349  \n",
      "3   1.00             8.0000      fluid ounces              0.3043  \n",
      "4   0.93             0.3638            pounds              1.4145  \n",
      "5   1.00             0.5401            pounds              1.0071  \n",
      "6   0.65             0.4409            pounds              1.5169  \n",
      "7   1.00             0.1433            pounds              1.0978  \n",
      "8   0.64             0.3307            pounds              0.3085  \n",
      "9   1.00             0.3307            pounds              1.4112  \n",
      "(62, 8)\n",
      "Fruit                  object\n",
      "Form                   object\n",
      "RetailPrice           float64\n",
      "RetailPriceUnit        object\n",
      "Yield                 float64\n",
      "CupEquivalentSize     float64\n",
      "CupEquivalentUnit      object\n",
      "CupEquivalentPrice    float64\n",
      "dtype: object\n"
     ]
    }
   ],
   "source": [
    "## Load your CSV file into a DataFrame\n",
    "df = pd.read_csv('data/Fruit-Prices-2022.csv')\n",
    "\n",
    "# Inspect the first rows of the DataFrame\n",
    "df_fruit = pd.read_csv('data/Fruit-Prices-2022.csv')\n",
    "print(df_fruit.head(10))\n",
    "print(df_fruit.shape)\n",
    "print(df_fruit.dtypes)\n"
   ]
  },
  {
   "cell_type": "markdown",
   "id": "a6029d78",
   "metadata": {},
   "source": [
    "## Fruit Prices 2022 Summary Statistics\n",
    "Show summary statistics for each column in the fruit prices dataset."
   ]
  },
  {
   "cell_type": "code",
   "execution_count": 15,
   "id": "0d3c2b1a",
   "metadata": {},
   "outputs": [
    {
     "name": "stdout",
     "output_type": "stream",
     "text": [
      "       RetailPrice      Yield  CupEquivalentSize  CupEquivalentPrice\n",
      "count    62.000000  62.000000          62.000000           62.000000\n",
      "mean      2.994571   0.876129           1.704984            1.065056\n",
      "std       2.269393   0.174979           2.949262            0.578325\n",
      "min       0.382000   0.460000           0.123200            0.242900\n",
      "25%       1.364225   0.722500           0.322450            0.639300\n",
      "50%       2.159250   0.980000           0.363800            1.008250\n",
      "75%       4.116525   1.000000           0.540100            1.353475\n",
      "max      10.303500   1.000000           8.000000            3.555800\n"
     ]
    }
   ],
   "source": [
    "print(df_fruit.describe())"
   ]
  },
  {
   "cell_type": "markdown",
   "id": "3fece05a",
   "metadata": {},
   "source": [
    "## 🥦 Inspect Vegetable Prices 2022\n",
    "Display the first 10 rows, shape, and data types of the vegetable prices dataset."
   ]
  },
  {
   "cell_type": "code",
   "execution_count": 12,
   "id": "c6a19de4",
   "metadata": {},
   "outputs": [
    {
     "name": "stdout",
     "output_type": "stream",
     "text": [
      "      Vegetable    Form  RetailPrice RetailPriceUnit   Yield  \\\n",
      "0  Acorn squash   Fresh       1.2136       per pound  0.4586   \n",
      "1     Artichoke   Fresh       2.4703       per pound  0.3750   \n",
      "2     Artichoke  Canned       3.4498       per pound  0.6500   \n",
      "3     Asparagus   Fresh       2.9531       per pound  0.4938   \n",
      "4     Asparagus  Canned       3.4328       per pound  0.6500   \n",
      "5     Asparagus  Frozen       6.8212       per pound  1.0335   \n",
      "6      Avocados   Fresh       2.6737       per pound  0.7408   \n",
      "7         Beets  Canned       1.1431       per pound  0.6500   \n",
      "8   Black beans  Canned       1.2387       per pound  0.6500   \n",
      "9   Black beans   Dried       1.5250       per pound  2.4692   \n",
      "\n",
      "   CupEquivalentSize CupEquivalentUnit  CupEquivalentPrice  \n",
      "0             0.4519            pounds              1.1961  \n",
      "1             0.3858            pounds              2.5415  \n",
      "2             0.3858            pounds              2.0476  \n",
      "3             0.3968            pounds              2.3731  \n",
      "4             0.3968            pounds              2.0958  \n",
      "5             0.3968            pounds              2.6191  \n",
      "6             0.3197            pounds              1.1538  \n",
      "7             0.3748            pounds              0.6591  \n",
      "8             0.3858            pounds              0.7352  \n",
      "9             0.3858            pounds              0.2383  \n",
      "(93, 8)\n",
      "Vegetable              object\n",
      "Form                   object\n",
      "RetailPrice           float64\n",
      "RetailPriceUnit        object\n",
      "Yield                 float64\n",
      "CupEquivalentSize     float64\n",
      "CupEquivalentUnit      object\n",
      "CupEquivalentPrice    float64\n",
      "dtype: object\n"
     ]
    }
   ],
   "source": [
    "## Load your CSV file into a DataFrame\n",
    "df = pd.read_csv('data/Vegetable-Prices-2022.csv')\n",
    "\n",
    "# Inspect the first rows of the DataFrame\n",
    "df_vegetable = pd.read_csv('data/Vegetable-Prices-2022.csv')\n",
    "print(df_vegetable.head(10))\n",
    "print(df_vegetable.shape)\n",
    "print(df_vegetable.dtypes)\n"
   ]
  },
  {
   "cell_type": "markdown",
   "id": "3b185cc9",
   "metadata": {},
   "source": [
    "## Vegetable Prices 2022 Summary Statistics\n",
    "Show summary statistics for each column in the vegetable prices dataset."
   ]
  },
  {
   "cell_type": "code",
   "execution_count": 16,
   "id": "c961f6c3",
   "metadata": {},
   "outputs": [
    {
     "name": "stdout",
     "output_type": "stream",
     "text": [
      "       RetailPrice      Yield  CupEquivalentSize  CupEquivalentPrice\n",
      "count    93.000000  93.000000          93.000000           93.000000\n",
      "mean      2.107941   0.959997           0.338635            0.828323\n",
      "std       1.082376   0.494943           0.066544            0.508993\n",
      "min       0.797000   0.375000           0.154300            0.221500\n",
      "25%       1.269100   0.650000           0.297600            0.539700\n",
      "50%       1.843300   0.881800           0.341700            0.701800\n",
      "75%       2.494100   0.970200           0.385800            0.937300\n",
      "max       6.821200   2.539700           0.540100            2.619100\n"
     ]
    }
   ],
   "source": [
    "print(df_vegetable.describe())"
   ]
  }
 ],
 "metadata": {
  "kernelspec": {
   "display_name": ".venv",
   "language": "python",
   "name": "python3"
  },
  "language_info": {
   "codemirror_mode": {
    "name": "ipython",
    "version": 3
   },
   "file_extension": ".py",
   "mimetype": "text/x-python",
   "name": "python",
   "nbconvert_exporter": "python",
   "pygments_lexer": "ipython3",
   "version": "3.13.7"
  }
 },
 "nbformat": 4,
 "nbformat_minor": 5
}
